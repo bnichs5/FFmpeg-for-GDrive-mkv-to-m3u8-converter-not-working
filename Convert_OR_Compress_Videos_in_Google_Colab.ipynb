{
  "nbformat": 4,
  "nbformat_minor": 0,
  "metadata": {
    "colab": {
      "name": "Convert_OR_Compress_Videos_in_Google_Colab.ipynb",
      "provenance": []
    },
    "kernelspec": {
      "name": "python3",
      "display_name": "Python 3"
    },
    "language_info": {
      "name": "python"
    }
  },
  "cells": [
    {
      "cell_type": "code",
      "metadata": {
        "id": "EKxiTq6tevm4"
      },
      "source": [
        ""
      ],
      "execution_count": null,
      "outputs": []
    },
    {
      "cell_type": "markdown",
      "metadata": {
        "id": "ZbwgNqRYPndP"
      },
      "source": [
        "#<<----<strong>Convert OR Compress Videos in Google Colab\n",
        "\n",
        "#Mega, OneDrive, Google Drive, Shared Drive, etc..\n",
        "#You can use others too :)</strong>\n",
        "\n",
        "#Subscribe: <a href=\"https://www.youtube.com/boostupstation\">BoostUpStation</a>"
      ]
    },
    {
      "cell_type": "code",
      "metadata": {
        "id": "uTPLrh4UfGne"
      },
      "source": [
        ""
      ],
      "execution_count": null,
      "outputs": []
    },
    {
      "cell_type": "markdown",
      "metadata": {
        "id": "pCPualPTTLMa"
      },
      "source": [
        "#Run These first"
      ]
    },
    {
      "cell_type": "code",
      "metadata": {
        "id": "BuvdTmE_Ersm",
        "cellView": "form"
      },
      "source": [
        "#@title <<----<strong>Install HandBrake and rClone</strong>\n",
        "%%capture\n",
        "AUTO_RECONNECT = True #@param {type:\"boolean\"}\n",
        "HANDBRAKE = True #@param {type:\"boolean\"}\n",
        "RCLONE = True #@param {type:\"boolean\"}\n",
        "#@markdown Check AUTO_RECONNECT to prevent notebook from disconnecting!\n",
        "\n",
        "from os import makedirs\n",
        "makedirs(\"/content/temp/HandbrakeTemp\", exist_ok = True)\n",
        "makedirs(\"/root/.config/rclone\", exist_ok = True) \n",
        "if HANDBRAKE==True:\n",
        "  !wget -qq https://github.com/vot/ffbinaries-prebuilt/releases/download/v4.2.1/ffmpeg-4.2.1-linux-64.zip \n",
        "  !rm -f ffmpeg-4.2.1-linux-64.zip\n",
        "  !add-apt-repository ppa:stebbins/handbrake-releases -y \n",
        "  !apt-get install -y handbrake-cli \n",
        "  \n",
        "if RCLONE==True:\n",
        "  !curl https://rclone.org/install.sh | sudo bash\n",
        "\n",
        "if AUTO_RECONNECT:\n",
        "  import IPython\n",
        "  from google.colab import output\n",
        "\n",
        "  display(IPython.display.Javascript('''\n",
        "  function ClickConnect(){\n",
        "    btn = document.querySelector(\"colab-connect-button\")\n",
        "    if (btn != null){\n",
        "      console.log(\"Click colab-connect-button\"); \n",
        "      btn.click() \n",
        "      }\n",
        "    \n",
        "    btn = document.getElementById('ok')\n",
        "    if (btn != null){\n",
        "      console.log(\"Click reconnect\"); \n",
        "      btn.click() \n",
        "      }\n",
        "    }\n",
        "    \n",
        "  setInterval(ClickConnect,60000)\n",
        "  '''))"
      ],
      "execution_count": null,
      "outputs": []
    },
    {
      "cell_type": "code",
      "metadata": {
        "id": "q6ONvZmjhcdn"
      },
      "source": [
        ""
      ],
      "execution_count": null,
      "outputs": []
    },
    {
      "cell_type": "code",
      "metadata": {
        "id": "J-S7hYTzLpZK",
        "cellView": "form"
      },
      "source": [
        "#@title <-----<strong>Upload your  Rclone.config file</strong>\n",
        "def moveConfig():\n",
        "  !mv rclone.conf /root/.config/rclone/rclone.conf\n",
        "\n",
        "from google.colab import files\n",
        "\n",
        "uploaded = files.upload()\n",
        "\n",
        "for fn in uploaded.keys():\n",
        "  print('User uploaded file \"{name}\" with length {length} bytes'.format(\n",
        "      name=fn, length=len(uploaded[fn])))\n",
        "moveConfig()\n",
        "print(\"Moved rclone.conf to /root/.config/rclone/rclone.conf\")"
      ],
      "execution_count": null,
      "outputs": []
    },
    {
      "cell_type": "code",
      "metadata": {
        "id": "K-7kNjFhfHZX"
      },
      "source": [
        ""
      ],
      "execution_count": null,
      "outputs": []
    },
    {
      "cell_type": "code",
      "metadata": {
        "id": "st8Q_ZN27ovN",
        "cellView": "form"
      },
      "source": [
        "#@markdown <center><h3><strong>Rclone MOUNT / UNMOUNT</strong></h3>Mount the remote as file system on a mountpoint.</center>\n",
        "import os\n",
        "from IPython.display import HTML, clear_output\n",
        "import uuid\n",
        "import ipywidgets as widgets\n",
        "from google.colab import output\n",
        "import re\n",
        "##########################################\n",
        "\n",
        "class MakeButton(object):\n",
        "  def __init__(self, title, callback, style):\n",
        "    self._title = title\n",
        "    self._callback = callback\n",
        "    self._style = style\n",
        "  def _repr_html_(self):\n",
        "    callback_id = 'button-' + str(uuid.uuid4())\n",
        "    output.register_callback(callback_id, self._callback)\n",
        "    if self._style != \"\":\n",
        "      style_html = \"p-Widget jupyter-widgets jupyter-button widget-button mod-\" + self._style\n",
        "    else:\n",
        "      style_html = \"p-Widget jupyter-widgets jupyter-button widget-button\"\n",
        "    template = \"\"\"<button class=\"{style_html}\" id=\"{callback_id}\">{title}</button>\n",
        "        <script>\n",
        "          document.querySelector(\"#{callback_id}\").onclick = (e) => {{\n",
        "            google.colab.kernel.invokeFunction('{callback_id}', [], {{}})\n",
        "            e.preventDefault();\n",
        "          }};\n",
        "        </script>\"\"\"\n",
        "    html = template.format(title=self._title, callback_id=callback_id, style_html=style_html)\n",
        "    return html\n",
        "  \n",
        "def ShowAC():\n",
        "  clear_output(wait=True)\n",
        "  display(\n",
        "      widgets.HBox(\n",
        "          [widgets.VBox(\n",
        "              [widgets.HTML(\n",
        "                  '''<h3 style=\"font-family:Trebuchet MS;color:#4f8bd6;margin-top:0px;\">\n",
        "                  Rclone available config...</h3>\n",
        "                  '''\n",
        "                  ),\n",
        "               mountNam]\n",
        "               )\n",
        "          ]\n",
        "          )\n",
        "      )\n",
        "  \n",
        "  display(HTML(\"<br>\"), MakeButton(\"Mount\", MountCMD, \"primary\"),\n",
        "          MakeButton(\"Unmount\", unmountCMD, \"danger\"))\n",
        "content = open(\"/root/.config/rclone/rclone.conf\").read()\n",
        "avCon = re.findall(r\"^\\[(.+)\\]$\", content, re.M)\n",
        "mountNam = widgets.Dropdown(options=avCon)\n",
        "cache_path=\"/content/temp/rCloneTemp\"\n",
        "def MountCMD():\n",
        "    mPoint = f\"/content/drives/{mountNam.value}\"\n",
        "    os.makedirs(mPoint, exist_ok=True)\n",
        "    !rclone mount $mountNam.value: $mPoint --user-agent 'Mozilla' --buffer-size 256M --transfers 10 --vfs-cache-mode minimal --vfs-read-chunk-size 500M --vfs-cache-max-size 50G --vfs-cache-max-age 0h0m1s --vfs-cache-poll-interval 0m1s --cache-dir '/content/temp/rCloneTemp' --allow-other --daemon \n",
        "\n",
        "    if os.path.isdir(mPoint)== True:\n",
        "      print(f\"Mount success! - \\t{mPoint}\")\n",
        "    else:\n",
        "      print(f\"Mount failed! - \\t{mPoint}\")\n",
        "\n",
        "def unmountCMD():\n",
        "  mPoint = f\"/content/drives/{mountNam.value}\"\n",
        "  if os.system(f\"fusermount -uz {mPoint}\") == 0:\n",
        "    runSh(f\"rm -r {mPoint}\")\n",
        "    print(f\"Unmounted success! - \\t{mPoint}\")\n",
        "  else:\n",
        "    runSh(f\"fusermount -uz {mPoint}\", output=True)\n",
        "\n",
        "ShowAC()"
      ],
      "execution_count": null,
      "outputs": []
    },
    {
      "cell_type": "code",
      "metadata": {
        "id": "5REGA_K-ftAK"
      },
      "source": [
        ""
      ],
      "execution_count": null,
      "outputs": []
    },
    {
      "cell_type": "code",
      "metadata": {
        "id": "Jdu112hxo6_M",
        "cellView": "form"
      },
      "source": [
        "#@title <center> <strong>HandBrake Configuration</strong> </center>\n",
        "#@markdown > Select Mode ( Batch conversion/ Single File)\n",
        "MODE = \"SINGLE\" #@param [\"SINGLE\", \"BATCH\"]\n",
        "\n",
        "\n",
        "#@markdown ---\n",
        "SOURCE = \"\" #@param {type:\"string\"}\n",
        "DESTINATION = \"\" #@param {type:\"string\"}\n",
        "FORMAT = \"mp4\" #@param [\"mp4\", \"mkv\"]\n",
        "RESOLUTION = \"480p\" #@param [\"360p\", \"480p\",\"540p\", \"720p\", \"1080p\"]\n",
        "Encoder = \"x264\" #@param [\"x264\", \"x265\"]\n",
        "Encoder_Preset = \"ultrafast\" #@param [\"ultrafast\", \"faster\", \"fast\", \"medium\", \"slow\", \"slower\"]\n",
        "#@markdown Choose Constant Quality Rate [Lower = Higher Quality/\n",
        "#@markdown Larger File Size]\n",
        "CQ = 30 #@param {type:\"slider\", min:10, max:30, step:1}\n",
        "BURN_SUBTITLES = False #@param {type:\"boolean\"}\n",
        "Additional_Flags = \"\" #@param {type:\"string\"}\n",
        "\n",
        "########################################################\n",
        "import smtplib\n",
        "import os\n",
        "\n",
        "\n",
        "formats = ('.mkv','.mp4','.ts','.avi','.mov','.wmv')\n",
        "\n",
        "######## Renames the file ########\n",
        "def fileName(fPath):\n",
        "        tName = fPath.split('/')[-1]        \n",
        "        if tName.endswith('ts'):\n",
        "          tName = tName[:-3] + f' [{RESOLUTION}] [{Encoder}].{FORMAT}'    \n",
        "        else:\n",
        "          tName = tName[:-4] + f' [{RESOLUTION}] [{Encoder}].{FORMAT}'    \n",
        "        return tName\n",
        "\n",
        "def set_resolution():\n",
        "  global w,h,flags\n",
        "  if RESOLUTION == \"360p\":\n",
        "    w, h = \"480\" , \"360\"\n",
        "  elif RESOLUTION == \"480p\":\n",
        "    w, h = \"854\" , \"480\"\n",
        "  elif RESOLUTION == \"540p\":\n",
        "    w, h = \"960\" , \"540\"\n",
        "  elif RESOLUTION == \"720p\":\n",
        "    w, h = \"1280\" , \"720\"\n",
        "  elif RESOLUTION == \"1080p\":\n",
        "    w, h = \"1920\" , \"1080\"\n",
        "\n",
        "def addFlags():\n",
        "  global flags\n",
        "  flags = f\" --encoder {Encoder}  --all-audio -s '0,1,2,3' --cfr --optimize --quality={CQ} --width={w} --height={h} --format={FORMAT} --encoder-preset={Encoder_Preset} \"\n",
        "  if BURN_SUBTITLES:\n",
        "    flags += \"-s '1' --subtitle-burned '1' \"\n",
        "  if Additional_Flags != \"\":\n",
        "    flags += str(Additional_Flags)\n",
        "\n",
        "set_resolution()\n",
        "addFlags()\n",
        "\n",
        "##### HandBrake and Rclone #####\n",
        "def runner(path):\n",
        "  f_name = fileName(path)\n",
        "  hTemp=f\"/content/temp/HandbrakeTemp/{f_name}\"\n",
        "  !HandBrakeCLI -i \"$path\" -o \"$hTemp\" $flags\n",
        "  \n",
        "      \n",
        "  if os.path.isfile(hTemp):\n",
        "    print(f\"\\n\\n********** Successfully converted {f_name}\\n Now saving to Destination.....\")\n",
        "    if os.path.exists('/usr/bin/rclone'):\n",
        "      !rclone move \"$hTemp\" --user-agent \"Mozilla\" \"$DESTINATION\" --transfers 20 --checkers 20 --stats-one-line --stats=5s -v --tpslimit 95 --tpslimit-burst 40\n",
        "    else:\n",
        "      dest = DESTINATION+'/'+f_name\n",
        "      !mv \"$hTemp\" \"$dest\"\n",
        "  if os.path.isfile(DESTINATION+ '/' +f_name):    \n",
        "      print(f\"\\n\\n********** Successfully saved {f_name} to Destination\")\n",
        "\n",
        "########## Check Mode ########\n",
        "if MODE==\"BATCH\":\n",
        "  os.makedirs(DESTINATION, exist_ok=True)\n",
        "  if SOURCE.endswith('/'):\n",
        "      pass\n",
        "  else: SOURCE +='/'\n",
        "  filesList = os.listdir(SOURCE+'.')\n",
        "  if os.path.isfile(SOURCE+'processed_db.txt'):\n",
        "    pass\n",
        "  else:\n",
        "    with open((SOURCE+'processed_db.txt'), 'w') as fb:\n",
        "      fb.write(\"Do not delete this file until all files have been processed!\\n\")\n",
        "      fb.close()\n",
        "  with open((SOURCE+'processed_db.txt'), \"r+\") as filehandle:\n",
        "    processedList = [x.rstrip() for x in filehandle.readlines()]\n",
        "\n",
        "    print('<<<<<<<<<<<<<<<<<< Starting Conversion in Batch mode. >>>>>>>>>>>>>>>>>>')\n",
        "\n",
        "    for currentFile in filesList:\n",
        "      if currentFile.endswith(formats):\n",
        "        if currentFile not in processedList:\n",
        "          currentPath = SOURCE + currentFile      \n",
        "          print(f'\\n\\n**************** Current File to process: {currentFile}')\n",
        "          runner(currentPath)\n",
        "          filehandle.write(currentFile+'\\n')\n",
        "    filehandle.close()\n",
        "        \n",
        "\n",
        "else:\n",
        "    if SOURCE.endswith(formats):    \n",
        "        runner(SOURCE)\n",
        "    else: print(\"Are you sure you have selected the correct file??\")\n",
        "\n"
      ],
      "execution_count": null,
      "outputs": []
    },
    {
      "cell_type": "code",
      "metadata": {
        "id": "sl2nFzH_hHop"
      },
      "source": [
        ""
      ],
      "execution_count": null,
      "outputs": []
    }
  ]
}